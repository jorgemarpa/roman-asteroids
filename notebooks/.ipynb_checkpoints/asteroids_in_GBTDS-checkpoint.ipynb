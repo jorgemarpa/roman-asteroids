{
 "cells": [
  {
   "cell_type": "code",
   "execution_count": 13,
   "id": "b25ebfee-4bee-4fc3-97a3-18cfc1e57b1d",
   "metadata": {
    "execution": {
     "iopub.execute_input": "2024-12-20T23:34:35.940024Z",
     "iopub.status.busy": "2024-12-20T23:34:35.939056Z",
     "iopub.status.idle": "2024-12-20T23:34:36.024916Z",
     "shell.execute_reply": "2024-12-20T23:34:36.024617Z",
     "shell.execute_reply.started": "2024-12-20T23:34:35.939917Z"
    }
   },
   "outputs": [],
   "source": [
    "import numpy as np\n",
    "import matplotlib.pyplot as plt\n",
    "import pandas as pd\n",
    "from astropy.coordinates import SkyCoord\n",
    "from astropy import units as u\n",
    "from astropy.time import Time\n",
    "from astroquery.jplhorizons import Horizons\n",
    "\n",
    "import sbident"
   ]
  },
  {
   "cell_type": "code",
   "execution_count": 14,
   "id": "7a5de712-fd36-4814-abc5-ce5696a439be",
   "metadata": {
    "execution": {
     "iopub.execute_input": "2024-12-20T23:36:28.408237Z",
     "iopub.status.busy": "2024-12-20T23:36:28.407314Z",
     "iopub.status.idle": "2024-12-20T23:36:28.459719Z",
     "shell.execute_reply": "2024-12-20T23:36:28.458307Z",
     "shell.execute_reply.started": "2024-12-20T23:36:28.408177Z"
    }
   },
   "outputs": [],
   "source": [
    "def query_jpl_sbi(\n",
    "    edge1: SkyCoord,\n",
    "    edge2: SkyCoord,\n",
    "    obstime: float = 2459490,\n",
    "    maglim: float = 30,\n",
    "    elem: bool = False,\n",
    "    sb_kind: str = \"all\",\n",
    "):\n",
    "    print(\"Requesting JPL Smal-bodies API\")\n",
    "\n",
    "    # get state of TESS (-95) from Horizons at our observation time\n",
    "    # and convert it from [AU, AU/day] to [km, km/s]\n",
    "    # location 500 is geocentric, minor planet center.\n",
    "    # 500@-95 means Geocentric location to TESS\n",
    "\n",
    "    # 1AU in km\n",
    "    au = (1 * u.au).to(u.km).value\n",
    "    # TESS state vector\n",
    "    tess = Horizons(id=\"-95\", location=\"500\", epochs=obstime, id_type=None).vectors(\n",
    "        refplane=\"earth\"\n",
    "    )\n",
    "    tess_km = (\n",
    "        tess[[\"x\", \"y\", \"z\", \"vx\", \"vy\", \"vz\"]].to_pandas().to_numpy() * au\n",
    "    )  # convert to km/d\n",
    "    tess_km[:, 3:] = tess_km[:, 3:] / 86400  # convert to km/s\n",
    "    tess_km = tess_km[0]  # take the first row\n",
    "\n",
    "    # form the xobs dictionary that is the input for SBIdent location argument\n",
    "    xobs = \",\".join([np.format_float_scientific(s, precision=5) for s in tess_km])\n",
    "    xobs_location = {\"xobs\": xobs}\n",
    "\n",
    "    if sb_kind == \"asteroid\":\n",
    "        filters = {\"sb-kind\": \"a\"}\n",
    "    elif sb_kind == \"comet\":\n",
    "        filters = {\"sb-kind\": \"c\"}\n",
    "    else:\n",
    "        filters = None\n",
    "\n",
    "    if edge2.ra - edge1.ra > 90 * u.deg:\n",
    "        # split into 2 seg if range of ra is too big\n",
    "        full_range = edge2.ra - edge1.ra\n",
    "        aux_sbid3 = []\n",
    "        n = 3\n",
    "        edge11 = edge1\n",
    "        edge22 = SkyCoord(edge11.ra + full_range / n, edge2.dec, frame=\"icrs\")\n",
    "        for k in range(n):\n",
    "            aux_sbid3.append(\n",
    "                SBIdent(\n",
    "                    location=xobs_location,\n",
    "                    obstime=obstime,\n",
    "                    fov=[edge11, edge22],\n",
    "                    maglim=maglim,\n",
    "                    precision=\"high\",\n",
    "                    request=True,\n",
    "                    elem=elem,\n",
    "                    filters=filters,\n",
    "                )\n",
    "            )\n",
    "            edge11 = SkyCoord(edge22.ra, edge1.dec, frame=\"icrs\")\n",
    "            edge22 = SkyCoord(\n",
    "                edge11.ra + (n + 1) * (full_range / n), edge2.dec, frame=\"icrs\"\n",
    "            )\n",
    "\n",
    "        jpl_sb = pd.concat([x.results.to_pandas() for x in aux_sbid3], axis=0)\n",
    "    else:\n",
    "        sbid3 = SBIdent(\n",
    "            location=xobs_location,\n",
    "            obstime=obstime,\n",
    "            fov=[edge1, edge2],\n",
    "            maglim=maglim,\n",
    "            precision=\"high\",\n",
    "            request=True,\n",
    "            elem=elem,\n",
    "            filters=filters,\n",
    "        )\n",
    "        jpl_sb = sbid3.results.to_pandas()\n",
    "    if len(jpl_sb) == 0:\n",
    "        raise ValueError(\"Empty result from JPL\")\n",
    "\n",
    "    jpl_sb = jpl_sb.drop_duplicates(subset=[\"Object name\"]).reset_index(drop=True)\n",
    "\n",
    "    # parse columns\n",
    "    if elem:\n",
    "        jpl_sb[\"H_mag\"] = jpl_sb[\"Absolute magntiude (H)\"].replace(\"n.a.\", np.nan)\n",
    "        jpl_sb[\"Eccentricity\"] = jpl_sb[\"Eccentricity\"].astype(float)\n",
    "        jpl_sb[\"Perihelion (au)\"] = jpl_sb[\"Perihelion (au)\"].astype(float)\n",
    "        jpl_sb[\"Inclination (deg)\"] = jpl_sb[\"Inclination (deg)\"].astype(float)\n",
    "    else:\n",
    "        jpl_sb[\"Astrometric Dec (dd mm'ss\\\")\"] = [\n",
    "            x.replace(\" \", \":\").replace(\"'\", \":\").replace('\"', \"\")\n",
    "            for x in jpl_sb[\"Astrometric Dec (dd mm'ss\\\")\"]\n",
    "        ]\n",
    "        coord = SkyCoord(\n",
    "            jpl_sb[\n",
    "                [\"Astrometric RA (hh:mm:ss)\", \"Astrometric Dec (dd mm'ss\\\")\"]\n",
    "            ].values,\n",
    "            frame=\"icrs\",\n",
    "            unit=(u.hourangle, u.deg),\n",
    "        )\n",
    "        jpl_sb[\"ra\"] = coord.ra.deg\n",
    "        jpl_sb[\"dec\"] = coord.dec.deg\n",
    "        jpl_sb[\"V_mag\"] = jpl_sb[\"Visual magnitude (V)\"].replace(\"n.a.\", np.nan)\n",
    "        jpl_sb[\"V_mag\"] = [\n",
    "            float(x) if not x.endswith(\"N\") else float(x[:-1]) for x in jpl_sb[\"V_mag\"]\n",
    "        ]\n",
    "        jpl_sb['RA rate (\"/h)'] = jpl_sb['RA rate (\"/h)'].astype(float)\n",
    "        jpl_sb['Dec rate (\"/h)'] = jpl_sb['Dec rate (\"/h)'].astype(float)\n",
    "    jpl_sb[\"name\"] = jpl_sb[\"Object name\"].apply(lambda x: x.split(\"(\")[0].strip())\n",
    "    jpl_sb[\"id\"] = jpl_sb[\"Object name\"].apply(\n",
    "        lambda x: x.split(\"(\")[1][:-1].strip()\n",
    "        if len(x.split(\"(\")) > 1\n",
    "        else x.split(\"(\")[0].strip()\n",
    "    )\n",
    "    return jpl_sb"
   ]
  },
  {
   "cell_type": "code",
   "execution_count": 9,
   "id": "635f42fa-fad5-4b03-a114-ec153e762f7c",
   "metadata": {
    "execution": {
     "iopub.execute_input": "2024-12-20T23:26:09.026236Z",
     "iopub.status.busy": "2024-12-20T23:26:09.025216Z",
     "iopub.status.idle": "2024-12-20T23:26:09.056487Z",
     "shell.execute_reply": "2024-12-20T23:26:09.056043Z",
     "shell.execute_reply.started": "2024-12-20T23:26:09.026159Z"
    }
   },
   "outputs": [
    {
     "data": {
      "text/plain": [
       "<SkyCoord (Galactic): (l, b) in deg\n",
       "    [(357., -3.), (357.,  3.), (  3., -3.), (  3.,  3.)]>"
      ]
     },
     "execution_count": 9,
     "metadata": {},
     "output_type": "execute_result"
    }
   ],
   "source": [
    "gbtd_fov = SkyCoord([-3, -3, 3, 3] * u.deg, [-3, 3, -3, 3] * u.deg, frame=\"galactic\")\n",
    "gbtd_fov"
   ]
  },
  {
   "cell_type": "code",
   "execution_count": 16,
   "id": "74e9e5e3-afd2-4c88-8f14-6f465001e5ab",
   "metadata": {
    "execution": {
     "iopub.execute_input": "2024-12-20T23:37:49.511648Z",
     "iopub.status.busy": "2024-12-20T23:37:49.510927Z",
     "iopub.status.idle": "2024-12-20T23:37:49.542572Z",
     "shell.execute_reply": "2024-12-20T23:37:49.542182Z",
     "shell.execute_reply.started": "2024-12-20T23:37:49.511583Z"
    }
   },
   "outputs": [
    {
     "data": {
      "text/plain": [
       "<Time object: scale='utc' format='isot' value=['2027-02-14T00:13:00.000' '2027-04-15T11:24:00.000']>"
      ]
     },
     "execution_count": 16,
     "metadata": {},
     "output_type": "execute_result"
    }
   ],
   "source": [
    "gbtd_time_season = Time([\"2027-02-14T00:13:00\", \"2027-04-15T11:24:00\"], format='isot', scale='utc')\n",
    "gbtd_time_season"
   ]
  },
  {
   "cell_type": "code",
   "execution_count": 15,
   "id": "c19b894d-b28b-47cd-817d-bc9fc3869c93",
   "metadata": {
    "execution": {
     "iopub.execute_input": "2024-12-20T23:37:31.878919Z",
     "iopub.status.busy": "2024-12-20T23:37:31.878486Z",
     "iopub.status.idle": "2024-12-20T23:37:31.915278Z",
     "shell.execute_reply": "2024-12-20T23:37:31.914931Z",
     "shell.execute_reply.started": "2024-12-20T23:37:31.878883Z"
    }
   },
   "outputs": [
    {
     "data": {
      "text/plain": [
       "array([61450.00902778, 61510.475     ])"
      ]
     },
     "execution_count": 15,
     "metadata": {},
     "output_type": "execute_result"
    }
   ],
   "source": [
    "gbtd_time_season"
   ]
  },
  {
   "cell_type": "code",
   "execution_count": null,
   "id": "d65e27f8-6ffd-4a83-8aa9-39226516e6d5",
   "metadata": {},
   "outputs": [],
   "source": []
  }
 ],
 "metadata": {
  "kernelspec": {
   "display_name": "tess",
   "language": "python",
   "name": "tess"
  },
  "language_info": {
   "codemirror_mode": {
    "name": "ipython",
    "version": 3
   },
   "file_extension": ".py",
   "mimetype": "text/x-python",
   "name": "python",
   "nbconvert_exporter": "python",
   "pygments_lexer": "ipython3",
   "version": "3.9.19"
  }
 },
 "nbformat": 4,
 "nbformat_minor": 5
}
